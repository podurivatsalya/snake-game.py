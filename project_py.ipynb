{
  "nbformat": 4,
  "nbformat_minor": 0,
  "metadata": {
    "colab": {
      "provenance": []
    },
    "kernelspec": {
      "name": "python3",
      "display_name": "Python 3"
    },
    "language_info": {
      "name": "python"
    }
  },
  "cells": [
    {
      "cell_type": "code",
      "execution_count": 1,
      "metadata": {
        "colab": {
          "base_uri": "https://localhost:8080/"
        },
        "id": "Z6UDWcH3FG4f",
        "outputId": "5cfff952-c067-4267-98ef-c45fd8eaedfd"
      },
      "outputs": [
        {
          "output_type": "stream",
          "name": "stdout",
          "text": [
            "pygame 2.6.1 (SDL 2.28.4, Python 3.11.13)\n",
            "Hello from the pygame community. https://www.pygame.org/contribute.html\n"
          ]
        }
      ],
      "source": [
        "import pygame\n",
        "import random\n",
        "import sys\n",
        "\n",
        "pygame.init()\n",
        "\n",
        "# Constants\n",
        "height = 500\n",
        "width = 700\n",
        "block_size = 20\n",
        "\n",
        "screen = pygame.display.set_mode((width, height))\n",
        "pygame.display.set_caption(\"🐍 Snake Game\")\n",
        "\n",
        "# Colors\n",
        "BLACK = (0, 0, 0)\n",
        "GREEN = (0, 255, 0)\n",
        "RED = (255, 0, 0)\n",
        "WHITE = (255, 255, 255)\n",
        "\n",
        "# Clock and font\n",
        "clock = pygame.time.Clock()\n",
        "font = pygame.font.SysFont(None, 36)\n",
        "\n",
        "# Draw snake\n",
        "def draw_snake(snake_list):\n",
        "    for block in snake_list:\n",
        "        pygame.draw.rect(screen, GREEN, (*block, block_size, block_size))\n",
        "\n",
        "# Draw food\n",
        "def draw_food(pos):\n",
        "    pygame.draw.rect(screen, RED, (*pos, block_size, block_size))\n",
        "\n",
        "# Display message\n",
        "def message(text, color):\n",
        "    msg = font.render(text, True, color)\n",
        "    screen.blit(msg, [width // 4, height // 2])\n",
        "\n",
        "def game_loop():\n",
        "    snake = [(100, 100)]\n",
        "    direction = \"RIGHT\"\n",
        "    change = direction\n",
        "    food = [random.randrange(0, width, block_size),\n",
        "            random.randrange(0, height, block_size)]\n",
        "    score = 0\n",
        "\n",
        "    while True:\n",
        "        for event in pygame.event.get():\n",
        "            if event.type == pygame.QUIT:\n",
        "                pygame.quit()\n",
        "                sys.exit()\n",
        "            elif event.type == pygame.KEYDOWN:\n",
        "                if event.key == pygame.K_UP and direction != \"DOWN\":\n",
        "                    change = \"UP\"\n",
        "                elif event.key == pygame.K_DOWN and direction != \"UP\":\n",
        "                    change = \"DOWN\"\n",
        "                elif event.key == pygame.K_LEFT and direction != \"RIGHT\":\n",
        "                    change = \"LEFT\"\n",
        "                elif event.key == pygame.K_RIGHT and direction != \"LEFT\":\n",
        "                    change = \"RIGHT\"\n",
        "\n",
        "        direction = change\n",
        "        x, y = snake[0]\n",
        "        if direction == \"UP\":\n",
        "            y -= block_size\n",
        "        elif direction == \"DOWN\":\n",
        "            y += block_size\n",
        "        elif direction == \"LEFT\":\n",
        "            x -= block_size  # fixed from X to x\n",
        "        elif direction == \"RIGHT\":\n",
        "            x += block_size\n",
        "\n",
        "        head = (x, y)\n",
        "        if x < 0 or x >= width or y < 0 or y >= height or head in snake:\n",
        "            screen.fill(BLACK)\n",
        "            message(\"Game over! Score: \" + str(score), RED)  # fixed incorrect message assignment\n",
        "            pygame.display.update()\n",
        "            pygame.time.wait(2000)\n",
        "            return\n",
        "\n",
        "        snake.insert(0, head)\n",
        "\n",
        "        if head == tuple(food):\n",
        "            score += 1\n",
        "            food = [random.randrange(0, width, block_size),\n",
        "                    random.randrange(0, height, block_size)]  # fixed height block_size missing\n",
        "        else:\n",
        "            snake.pop()\n",
        "\n",
        "        screen.fill(BLACK)  # fixed from snake.fill to screen.fill\n",
        "        draw_snake(snake)\n",
        "        draw_food(food)\n",
        "        score_text = font.render(\"Score: \" + str(score), True, WHITE)\n",
        "        screen.blit(score_text, [10, 10])\n",
        "        pygame.display.update()\n",
        "        clock.tick(10)\n",
        "\n",
        "game_loop()\n"
      ]
    }
  ]
}